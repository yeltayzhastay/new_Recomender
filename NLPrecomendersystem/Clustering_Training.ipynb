{
 "cells": [
  {
   "cell_type": "code",
   "execution_count": 1,
   "metadata": {},
   "outputs": [],
   "source": [
    "import sklearn\n",
    "import pandas as pd\n",
    "import numpy as np\n",
    "\n",
    "from sklearn.model_selection import KFold,train_test_split,cross_val_score,cross_validate\n",
    "from sklearn.feature_extraction.text import TfidfVectorizer, CountVectorizer\n",
    "from sklearn.metrics import accuracy_score, precision_score, recall_score, f1_score, confusion_matrix, roc_auc_score, roc_curve\n",
    "\n",
    "from sklearn.linear_model import LogisticRegression\n",
    "from sklearn.neighbors import KNeighborsClassifier\n",
    "from sklearn.svm import SVC\n",
    "from sklearn.naive_bayes import GaussianNB, BernoulliNB, MultinomialNB\n",
    "from sklearn.tree import DecisionTreeClassifier\n",
    "from sklearn.ensemble import RandomForestClassifier, GradientBoostingClassifier\n",
    "\n",
    "from sklearn.metrics import classification_report, confusion_matrix, roc_auc_score\n",
    "\n",
    "import seaborn as sns\n",
    "import matplotlib.pyplot as plt\n",
    "\n",
    "plt.rcParams[\"figure.figsize\"] = (8, 6)\n",
    "pd.options.display.max_rows = 10"
   ]
  },
  {
   "cell_type": "code",
   "execution_count": 2,
   "metadata": {},
   "outputs": [
    {
     "name": "stderr",
     "output_type": "stream",
     "text": [
      "c:\\users\\yelzha\\appdata\\local\\programs\\python\\python37\\lib\\site-packages\\IPython\\core\\interactiveshell.py:3146: DtypeWarning: Columns (27) have mixed types.Specify dtype option on import or set low_memory=False.\n",
      "  interactivity=interactivity, compiler=compiler, result=result)\n"
     ]
    },
    {
     "data": {
      "text/html": [
       "<div>\n",
       "<style scoped>\n",
       "    .dataframe tbody tr th:only-of-type {\n",
       "        vertical-align: middle;\n",
       "    }\n",
       "\n",
       "    .dataframe tbody tr th {\n",
       "        vertical-align: top;\n",
       "    }\n",
       "\n",
       "    .dataframe thead th {\n",
       "        text-align: right;\n",
       "    }\n",
       "</style>\n",
       "<table border=\"1\" class=\"dataframe\">\n",
       "  <thead>\n",
       "    <tr style=\"text-align: right;\">\n",
       "      <th></th>\n",
       "      <th>group_url</th>\n",
       "      <th>user_id</th>\n",
       "      <th>first_name</th>\n",
       "      <th>last_name</th>\n",
       "      <th>sex</th>\n",
       "      <th>bdate</th>\n",
       "      <th>interests</th>\n",
       "      <th>books</th>\n",
       "      <th>tv</th>\n",
       "      <th>quotes</th>\n",
       "      <th>...</th>\n",
       "      <th>political</th>\n",
       "      <th>smoking</th>\n",
       "      <th>religion</th>\n",
       "      <th>langs</th>\n",
       "      <th>inspired_by</th>\n",
       "      <th>text</th>\n",
       "      <th>comments</th>\n",
       "      <th>likes</th>\n",
       "      <th>reposts</th>\n",
       "      <th>views</th>\n",
       "    </tr>\n",
       "  </thead>\n",
       "  <tbody>\n",
       "    <tr>\n",
       "      <th>0</th>\n",
       "      <td>samsung.galaxy_a</td>\n",
       "      <td>3744</td>\n",
       "      <td>Alexander</td>\n",
       "      <td>Ageyev</td>\n",
       "      <td>2</td>\n",
       "      <td>10.5</td>\n",
       "      <td>NaN</td>\n",
       "      <td>NaN</td>\n",
       "      <td>NaN</td>\n",
       "      <td>NaN</td>\n",
       "      <td>...</td>\n",
       "      <td>5.0</td>\n",
       "      <td>2.0</td>\n",
       "      <td>Верю</td>\n",
       "      <td>Русский English</td>\n",
       "      <td>Муза</td>\n",
       "      <td>\"hear you screaming...\" © UPD 8.05.2020 15:30 ...</td>\n",
       "      <td>0.000000</td>\n",
       "      <td>0.180000</td>\n",
       "      <td>0.000000</td>\n",
       "      <td>61.020000</td>\n",
       "    </tr>\n",
       "    <tr>\n",
       "      <th>1</th>\n",
       "      <td>samsung.galaxy_a</td>\n",
       "      <td>159133</td>\n",
       "      <td>Darya</td>\n",
       "      <td>Denisova</td>\n",
       "      <td>1</td>\n",
       "      <td>5.5</td>\n",
       "      <td>NaN</td>\n",
       "      <td>NaN</td>\n",
       "      <td>NaN</td>\n",
       "      <td>NaN</td>\n",
       "      <td>...</td>\n",
       "      <td>NaN</td>\n",
       "      <td>NaN</td>\n",
       "      <td>NaN</td>\n",
       "      <td>NaN</td>\n",
       "      <td>NaN</td>\n",
       "      <td>Конфетки для тех, кому не безразлично здоровь...</td>\n",
       "      <td>0.000000</td>\n",
       "      <td>0.050000</td>\n",
       "      <td>0.000000</td>\n",
       "      <td>9.030000</td>\n",
       "    </tr>\n",
       "    <tr>\n",
       "      <th>2</th>\n",
       "      <td>samsung.galaxy_a</td>\n",
       "      <td>176360</td>\n",
       "      <td>Denis</td>\n",
       "      <td>Kuleshov</td>\n",
       "      <td>2</td>\n",
       "      <td>20.8.1983</td>\n",
       "      <td>NaN</td>\n",
       "      <td>NaN</td>\n",
       "      <td>NaN</td>\n",
       "      <td>NaN</td>\n",
       "      <td>...</td>\n",
       "      <td>NaN</td>\n",
       "      <td>NaN</td>\n",
       "      <td>NaN</td>\n",
       "      <td>NaN</td>\n",
       "      <td>NaN</td>\n",
       "      <td>Прикол.ру</td>\n",
       "      <td>0.000000</td>\n",
       "      <td>0.797753</td>\n",
       "      <td>0.011236</td>\n",
       "      <td>24.629213</td>\n",
       "    </tr>\n",
       "    <tr>\n",
       "      <th>3</th>\n",
       "      <td>samsung.galaxy_a</td>\n",
       "      <td>237262</td>\n",
       "      <td>Marya</td>\n",
       "      <td>Belyaeva</td>\n",
       "      <td>1</td>\n",
       "      <td>NaN</td>\n",
       "      <td>NaN</td>\n",
       "      <td>NaN</td>\n",
       "      <td>NaN</td>\n",
       "      <td>NaN</td>\n",
       "      <td>...</td>\n",
       "      <td>NaN</td>\n",
       "      <td>NaN</td>\n",
       "      <td>NaN</td>\n",
       "      <td>NaN</td>\n",
       "      <td>NaN</td>\n",
       "      <td>Каждый февраль для меня период кардин...</td>\n",
       "      <td>0.000000</td>\n",
       "      <td>17.560000</td>\n",
       "      <td>2.310000</td>\n",
       "      <td>7413.040000</td>\n",
       "    </tr>\n",
       "    <tr>\n",
       "      <th>4</th>\n",
       "      <td>samsung.galaxy_a</td>\n",
       "      <td>574640</td>\n",
       "      <td>Stanislav</td>\n",
       "      <td>Sorokin</td>\n",
       "      <td>2</td>\n",
       "      <td>14.1.1987</td>\n",
       "      <td>NaN</td>\n",
       "      <td>NaN</td>\n",
       "      <td>NaN</td>\n",
       "      <td>NaN</td>\n",
       "      <td>...</td>\n",
       "      <td>NaN</td>\n",
       "      <td>1.0</td>\n",
       "      <td>Православие</td>\n",
       "      <td>Русский English</td>\n",
       "      <td>NaN</td>\n",
       "      <td>Модульная система ThinkTank, подвес/разгрузк...</td>\n",
       "      <td>0.654321</td>\n",
       "      <td>3.543210</td>\n",
       "      <td>0.172840</td>\n",
       "      <td>13.975309</td>\n",
       "    </tr>\n",
       "    <tr>\n",
       "      <th>...</th>\n",
       "      <td>...</td>\n",
       "      <td>...</td>\n",
       "      <td>...</td>\n",
       "      <td>...</td>\n",
       "      <td>...</td>\n",
       "      <td>...</td>\n",
       "      <td>...</td>\n",
       "      <td>...</td>\n",
       "      <td>...</td>\n",
       "      <td>...</td>\n",
       "      <td>...</td>\n",
       "      <td>...</td>\n",
       "      <td>...</td>\n",
       "      <td>...</td>\n",
       "      <td>...</td>\n",
       "      <td>...</td>\n",
       "      <td>...</td>\n",
       "      <td>...</td>\n",
       "      <td>...</td>\n",
       "      <td>...</td>\n",
       "      <td>...</td>\n",
       "    </tr>\n",
       "    <tr>\n",
       "      <th>26411</th>\n",
       "      <td>huaweip20</td>\n",
       "      <td>399145172</td>\n",
       "      <td>Ermek</td>\n",
       "      <td>Alikov</td>\n",
       "      <td>2</td>\n",
       "      <td>NaN</td>\n",
       "      <td>NaN</td>\n",
       "      <td>NaN</td>\n",
       "      <td>NaN</td>\n",
       "      <td>NaN</td>\n",
       "      <td>...</td>\n",
       "      <td>NaN</td>\n",
       "      <td>NaN</td>\n",
       "      <td>NaN</td>\n",
       "      <td>NaN</td>\n",
       "      <td>NaN</td>\n",
       "      <td>РОЗЫГРЫШ НОУТБУКА MSI GL63 Я играю в Мафию! П...</td>\n",
       "      <td>0.000000</td>\n",
       "      <td>0.160000</td>\n",
       "      <td>0.000000</td>\n",
       "      <td>13.480000</td>\n",
       "    </tr>\n",
       "    <tr>\n",
       "      <th>26412</th>\n",
       "      <td>huaweip20</td>\n",
       "      <td>399220419</td>\n",
       "      <td>Egor</td>\n",
       "      <td>Bibanin</td>\n",
       "      <td>2</td>\n",
       "      <td>NaN</td>\n",
       "      <td>NaN</td>\n",
       "      <td>NaN</td>\n",
       "      <td>NaN</td>\n",
       "      <td>NaN</td>\n",
       "      <td>...</td>\n",
       "      <td>NaN</td>\n",
       "      <td>NaN</td>\n",
       "      <td>NaN</td>\n",
       "      <td>NaN</td>\n",
       "      <td>NaN</td>\n",
       "      <td>http://depstroy.tomsk.ru/child-picture/2020.p...</td>\n",
       "      <td>0.057143</td>\n",
       "      <td>3.057143</td>\n",
       "      <td>0.000000</td>\n",
       "      <td>39.200000</td>\n",
       "    </tr>\n",
       "    <tr>\n",
       "      <th>26414</th>\n",
       "      <td>huaweip20</td>\n",
       "      <td>400034139</td>\n",
       "      <td>Yury</td>\n",
       "      <td>Suslov</td>\n",
       "      <td>2</td>\n",
       "      <td>10.1.1989</td>\n",
       "      <td>NaN</td>\n",
       "      <td>NaN</td>\n",
       "      <td>NaN</td>\n",
       "      <td>NaN</td>\n",
       "      <td>...</td>\n",
       "      <td>NaN</td>\n",
       "      <td>NaN</td>\n",
       "      <td>NaN</td>\n",
       "      <td>NaN</td>\n",
       "      <td>NaN</td>\n",
       "      <td></td>\n",
       "      <td>0.160000</td>\n",
       "      <td>0.460000</td>\n",
       "      <td>0.240000</td>\n",
       "      <td>14.080000</td>\n",
       "    </tr>\n",
       "    <tr>\n",
       "      <th>26418</th>\n",
       "      <td>huaweip20</td>\n",
       "      <td>400815516</td>\n",
       "      <td>Sveta</td>\n",
       "      <td>Ilyina</td>\n",
       "      <td>1</td>\n",
       "      <td>NaN</td>\n",
       "      <td>NaN</td>\n",
       "      <td>NaN</td>\n",
       "      <td>NaN</td>\n",
       "      <td>NaN</td>\n",
       "      <td>...</td>\n",
       "      <td>NaN</td>\n",
       "      <td>NaN</td>\n",
       "      <td>NaN</td>\n",
       "      <td>NaN</td>\n",
       "      <td>NaN</td>\n",
       "      <td>Дорогой друг!!!!!!!!!!! \\r\\nРада приветствоват...</td>\n",
       "      <td>0.010000</td>\n",
       "      <td>0.060000</td>\n",
       "      <td>0.000000</td>\n",
       "      <td>1.800000</td>\n",
       "    </tr>\n",
       "    <tr>\n",
       "      <th>26420</th>\n",
       "      <td>huaweip20</td>\n",
       "      <td>401219883</td>\n",
       "      <td>Nikita</td>\n",
       "      <td>Kravets</td>\n",
       "      <td>2</td>\n",
       "      <td>4.12.1996</td>\n",
       "      <td>NaN</td>\n",
       "      <td>NaN</td>\n",
       "      <td>NaN</td>\n",
       "      <td>NaN</td>\n",
       "      <td>...</td>\n",
       "      <td>NaN</td>\n",
       "      <td>NaN</td>\n",
       "      <td>NaN</td>\n",
       "      <td>NaN</td>\n",
       "      <td>NaN</td>\n",
       "      <td>Киска вошла в бригаду      Мы не можем...</td>\n",
       "      <td>0.000000</td>\n",
       "      <td>0.400000</td>\n",
       "      <td>0.030000</td>\n",
       "      <td>11.350000</td>\n",
       "    </tr>\n",
       "  </tbody>\n",
       "</table>\n",
       "<p>5291 rows × 32 columns</p>\n",
       "</div>"
      ],
      "text/plain": [
       "              group_url    user_id first_name last_name  sex      bdate  \\\n",
       "0      samsung.galaxy_a       3744  Alexander    Ageyev    2       10.5   \n",
       "1      samsung.galaxy_a     159133      Darya  Denisova    1        5.5   \n",
       "2      samsung.galaxy_a     176360      Denis  Kuleshov    2  20.8.1983   \n",
       "3      samsung.galaxy_a     237262      Marya  Belyaeva    1        NaN   \n",
       "4      samsung.galaxy_a     574640  Stanislav   Sorokin    2  14.1.1987   \n",
       "...                 ...        ...        ...       ...  ...        ...   \n",
       "26411         huaweip20  399145172      Ermek    Alikov    2        NaN   \n",
       "26412         huaweip20  399220419       Egor   Bibanin    2        NaN   \n",
       "26414         huaweip20  400034139       Yury    Suslov    2  10.1.1989   \n",
       "26418         huaweip20  400815516      Sveta    Ilyina    1        NaN   \n",
       "26420         huaweip20  401219883     Nikita   Kravets    2  4.12.1996   \n",
       "\n",
       "      interests books   tv quotes  ... political smoking     religion  \\\n",
       "0           NaN   NaN  NaN    NaN  ...       5.0     2.0         Верю   \n",
       "1           NaN   NaN  NaN    NaN  ...       NaN     NaN          NaN   \n",
       "2           NaN   NaN  NaN    NaN  ...       NaN     NaN          NaN   \n",
       "3           NaN   NaN  NaN    NaN  ...       NaN     NaN          NaN   \n",
       "4           NaN   NaN  NaN    NaN  ...       NaN     1.0  Православие   \n",
       "...         ...   ...  ...    ...  ...       ...     ...          ...   \n",
       "26411       NaN   NaN  NaN    NaN  ...       NaN     NaN          NaN   \n",
       "26412       NaN   NaN  NaN    NaN  ...       NaN     NaN          NaN   \n",
       "26414       NaN   NaN  NaN    NaN  ...       NaN     NaN          NaN   \n",
       "26418       NaN   NaN  NaN    NaN  ...       NaN     NaN          NaN   \n",
       "26420       NaN   NaN  NaN    NaN  ...       NaN     NaN          NaN   \n",
       "\n",
       "                 langs inspired_by  \\\n",
       "0      Русский English        Муза   \n",
       "1                  NaN         NaN   \n",
       "2                  NaN         NaN   \n",
       "3                  NaN         NaN   \n",
       "4      Русский English         NaN   \n",
       "...                ...         ...   \n",
       "26411              NaN         NaN   \n",
       "26412              NaN         NaN   \n",
       "26414              NaN         NaN   \n",
       "26418              NaN         NaN   \n",
       "26420              NaN         NaN   \n",
       "\n",
       "                                                    text  comments      likes  \\\n",
       "0      \"hear you screaming...\" © UPD 8.05.2020 15:30 ...  0.000000   0.180000   \n",
       "1       Конфетки для тех, кому не безразлично здоровь...  0.000000   0.050000   \n",
       "2                                   Прикол.ру             0.000000   0.797753   \n",
       "3               Каждый февраль для меня период кардин...  0.000000  17.560000   \n",
       "4        Модульная система ThinkTank, подвес/разгрузк...  0.654321   3.543210   \n",
       "...                                                  ...       ...        ...   \n",
       "26411   РОЗЫГРЫШ НОУТБУКА MSI GL63 Я играю в Мафию! П...  0.000000   0.160000   \n",
       "26412   http://depstroy.tomsk.ru/child-picture/2020.p...  0.057143   3.057143   \n",
       "26414                                                     0.160000   0.460000   \n",
       "26418  Дорогой друг!!!!!!!!!!! \\r\\nРада приветствоват...  0.010000   0.060000   \n",
       "26420          Киска вошла в бригаду      Мы не можем...  0.000000   0.400000   \n",
       "\n",
       "        reposts        views  \n",
       "0      0.000000    61.020000  \n",
       "1      0.000000     9.030000  \n",
       "2      0.011236    24.629213  \n",
       "3      2.310000  7413.040000  \n",
       "4      0.172840    13.975309  \n",
       "...         ...          ...  \n",
       "26411  0.000000    13.480000  \n",
       "26412  0.000000    39.200000  \n",
       "26414  0.240000    14.080000  \n",
       "26418  0.000000     1.800000  \n",
       "26420  0.030000    11.350000  \n",
       "\n",
       "[5291 rows x 32 columns]"
      ]
     },
     "execution_count": 2,
     "metadata": {},
     "output_type": "execute_result"
    }
   ],
   "source": [
    "df = pd.concat([pd.read_csv('vk_dataset_only_text.csv', sep=';'),\n",
    "                pd.read_csv('vk_dataset_2ipru.csv', sep=';'),\n",
    "                pd.read_csv('vk_dataset_2ruhu.csv', sep=';')], ignore_index=True)\n",
    "df = df.dropna(subset=['text'])\n",
    "df"
   ]
  },
  {
   "cell_type": "markdown",
   "metadata": {},
   "source": [
    "## Train"
   ]
  },
  {
   "cell_type": "code",
   "execution_count": 36,
   "metadata": {},
   "outputs": [],
   "source": [
    "X, y = df.loc[:, 'text'], df[['group_url']]"
   ]
  },
  {
   "cell_type": "code",
   "execution_count": 58,
   "metadata": {},
   "outputs": [],
   "source": [
    "import re\n",
    "from nltk.stem.snowball import SnowballStemmer\n",
    "\n",
    "def cleaning_data(code_data):\n",
    "    text = code_data\n",
    "    text = text.replace('(<br/>)', '')\n",
    "    text = text.replace('(<a).*(>).*(</a>)', '')\n",
    "    text = text.replace('(&amp)', '')\n",
    "    text = text.replace('(&gt)', '')\n",
    "    text = text.replace('(&lt)', '')\n",
    "    text = text.replace('(\\xa0)', ' ')\n",
    "    text = filtering(text)\n",
    "    #text = stemmering(text)\n",
    "    return text\n",
    "\n",
    "def filtering(text):\n",
    "    stripped = re.sub('[^А-Яа-я, ё]', ' ', str(text).replace('-', ' '))\n",
    "    stripped = re.sub('_', '', stripped)\n",
    "    stripped = re.sub('\\s+', ' ', stripped)\n",
    "    return str(stripped).lower()\n",
    "\n",
    "def stemmering(text):\n",
    "    stemmer = SnowballStemmer(\"russian\")\n",
    "    return ' '.join([stemmer.stem(word) for word in text.split(' ')])"
   ]
  },
  {
   "cell_type": "code",
   "execution_count": 60,
   "metadata": {},
   "outputs": [],
   "source": [
    "X = pd.DataFrame(list(map(cleaning_data, X.tolist())))[0]"
   ]
  },
  {
   "cell_type": "code",
   "execution_count": 61,
   "metadata": {},
   "outputs": [
    {
     "data": {
      "text/plain": [
       "0        деньги вернули я на связи всем привет сегодня...\n",
       "1        конфетки для тех, кому не безразлично здоровь...\n",
       "2                                              прикол ру \n",
       "3        каждый февраль для меня период кардинальных п...\n",
       "4        модульная система , подвес разгрузка для фото...\n",
       "                              ...                        \n",
       "5286     розыгрыш ноутбука я играю в мафию присоединяйся \n",
       "5287     проголосуйте пожалуйста за номер , я учавству...\n",
       "5288                                                     \n",
       "5289    дорогой друг рада приветствовать вас на моей с...\n",
       "5290     киска вошла в бригаду мы не можем поехать туд...\n",
       "Name: 0, Length: 5291, dtype: object"
      ]
     },
     "execution_count": 61,
     "metadata": {},
     "output_type": "execute_result"
    }
   ],
   "source": [
    "X.dropna()"
   ]
  },
  {
   "cell_type": "code",
   "execution_count": 67,
   "metadata": {},
   "outputs": [],
   "source": [
    "y = y[(X != ' ').values]\n",
    "X = X[(X != ' ').values]"
   ]
  },
  {
   "cell_type": "markdown",
   "metadata": {},
   "source": [
    "## Clustering"
   ]
  },
  {
   "cell_type": "code",
   "execution_count": 100,
   "metadata": {},
   "outputs": [
    {
     "name": "stdout",
     "output_type": "stream",
     "text": [
      "samsung.galaxy_a\n",
      "(1096, 28625)\n"
     ]
    },
    {
     "name": "stderr",
     "output_type": "stream",
     "text": [
      "c:\\users\\yelzha\\appdata\\local\\programs\\python\\python37\\lib\\site-packages\\sklearn\\cluster\\_kmeans.py:939: FutureWarning: 'n_jobs' was deprecated in version 0.23 and will be removed in 0.25.\n",
      "  \" removed in 0.25.\", FutureWarning)\n"
     ]
    },
    {
     "name": "stdout",
     "output_type": "stream",
     "text": [
      "kupit_iphone_v_moskve\n",
      "(1496, 26462)\n"
     ]
    },
    {
     "name": "stderr",
     "output_type": "stream",
     "text": [
      "c:\\users\\yelzha\\appdata\\local\\programs\\python\\python37\\lib\\site-packages\\sklearn\\cluster\\_kmeans.py:939: FutureWarning: 'n_jobs' was deprecated in version 0.23 and will be removed in 0.25.\n",
      "  \" removed in 0.25.\", FutureWarning)\n"
     ]
    },
    {
     "name": "stdout",
     "output_type": "stream",
     "text": [
      "rumicomrussia\n",
      "(803, 32205)\n"
     ]
    },
    {
     "name": "stderr",
     "output_type": "stream",
     "text": [
      "c:\\users\\yelzha\\appdata\\local\\programs\\python\\python37\\lib\\site-packages\\sklearn\\cluster\\_kmeans.py:939: FutureWarning: 'n_jobs' was deprecated in version 0.23 and will be removed in 0.25.\n",
      "  \" removed in 0.25.\", FutureWarning)\n"
     ]
    },
    {
     "name": "stdout",
     "output_type": "stream",
     "text": [
      "huaweip20\n",
      "(662, 20705)\n"
     ]
    },
    {
     "name": "stderr",
     "output_type": "stream",
     "text": [
      "c:\\users\\yelzha\\appdata\\local\\programs\\python\\python37\\lib\\site-packages\\sklearn\\cluster\\_kmeans.py:939: FutureWarning: 'n_jobs' was deprecated in version 0.23 and will be removed in 0.25.\n",
      "  \" removed in 0.25.\", FutureWarning)\n"
     ]
    }
   ],
   "source": [
    "from sklearn.cluster import KMeans, MeanShift, DBSCAN\n",
    "\n",
    "new_X = []\n",
    "new_y = []\n",
    "\n",
    "for i in y.group_url.drop_duplicates().values:\n",
    "    print(i)\n",
    "    \n",
    "    groupping = X[(y.group_url == i).values]\n",
    "    y_values = y[(y.group_url == i).values]\n",
    "    vectorizer = TfidfVectorizer(lowercase=True)\n",
    "    tfidfgroup = vectorizer.fit_transform(groupping)\n",
    "    print(tfidfgroup.shape)\n",
    "    \n",
    "    pred = KMeans(n_clusters=2, n_jobs=-1, n_init=100).fit_predict(tfidfgroup.toarray())\n",
    "    sample_booling = pred == (1 if sum(pred == 1) > sum(pred == 0) else 0)\n",
    "    new_X.append(groupping[sample_booling])\n",
    "    new_y.append(y_values[sample_booling])"
   ]
  },
  {
   "cell_type": "code",
   "execution_count": 103,
   "metadata": {},
   "outputs": [],
   "source": [
    "new_X = pd.concat(new_X, ignore_index=True)\n",
    "new_y = pd.concat(new_y, ignore_index=True)"
   ]
  },
  {
   "cell_type": "code",
   "execution_count": 149,
   "metadata": {},
   "outputs": [],
   "source": [
    "X_balanced = pd.concat([new_X[(new_y == 'samsung.galaxy_a')['group_url'].values].iloc[:619],\n",
    "           new_X[(new_y == 'kupit_iphone_v_moskve')['group_url'].values].iloc[:619],\n",
    "           new_X[(new_y == 'rumicomrussia')['group_url'].values].iloc[:619],\n",
    "           new_X[(new_y == 'huaweip20')['group_url'].values].iloc[:619]], ignore_index=True)\n",
    "\n",
    "y_balanced = pd.concat([new_y[(new_y == 'samsung.galaxy_a')].iloc[:619],\n",
    "           new_y[(new_y == 'kupit_iphone_v_moskve').values].iloc[:619],\n",
    "           new_y[(new_y == 'rumicomrussia').values].iloc[:619],\n",
    "           new_y[(new_y == 'huaweip20').values].iloc[:619]], ignore_index=True)"
   ]
  },
  {
   "cell_type": "code",
   "execution_count": 189,
   "metadata": {},
   "outputs": [
    {
     "name": "stdout",
     "output_type": "stream",
     "text": [
      "3245\n",
      "812\n"
     ]
    }
   ],
   "source": [
    "X_train, X_test, y_train, y_test = train_test_split(X, y, test_size = 0.2)\n",
    "print(len(X_train))\n",
    "print(len(X_test))"
   ]
  },
  {
   "cell_type": "code",
   "execution_count": 190,
   "metadata": {},
   "outputs": [
    {
     "name": "stdout",
     "output_type": "stream",
     "text": [
      "(3245, 59921)\n"
     ]
    }
   ],
   "source": [
    "from nltk.corpus import stopwords\n",
    "\n",
    "vectorizer = TfidfVectorizer(lowercase=True, sublinear_tf=True, smooth_idf=True)\n",
    "x_train_tf = vectorizer.fit_transform(X_train)\n",
    "x_test_tf = vectorizer.transform(X_test)\n",
    "print(x_train_tf.shape)"
   ]
  },
  {
   "cell_type": "code",
   "execution_count": 191,
   "metadata": {},
   "outputs": [],
   "source": [
    "import itertools\n",
    "\n",
    "def plot_classification_report(classificationReport,\n",
    "                               title='Classification report',\n",
    "                               cmap='RdBu'):\n",
    "    df = pd.DataFrame(classificationReport).T.iloc[:,:3]\n",
    "    df.style.background_gradient(cmap='viridis',\n",
    "                             subset=pd.IndexSlice['0':'9', :'f1-score'])\n",
    "    return df"
   ]
  },
  {
   "cell_type": "code",
   "execution_count": 192,
   "metadata": {},
   "outputs": [
    {
     "name": "stderr",
     "output_type": "stream",
     "text": [
      "c:\\users\\yelzha\\appdata\\local\\programs\\python\\python37\\lib\\site-packages\\sklearn\\utils\\validation.py:72: DataConversionWarning: A column-vector y was passed when a 1d array was expected. Please change the shape of y to (n_samples, ), for example using ravel().\n",
      "  return f(**kwargs)\n"
     ]
    }
   ],
   "source": [
    "model = GaussianNB()\n",
    "model.fit(x_train_tf.toarray(), y_train)\n",
    "\n",
    "predictions = model.predict(x_test_tf.toarray())"
   ]
  },
  {
   "cell_type": "code",
   "execution_count": 193,
   "metadata": {},
   "outputs": [
    {
     "name": "stderr",
     "output_type": "stream",
     "text": [
      "c:\\users\\yelzha\\appdata\\local\\programs\\python\\python37\\lib\\site-packages\\sklearn\\utils\\validation.py:72: DataConversionWarning: A column-vector y was passed when a 1d array was expected. Please change the shape of y to (n_samples, ), for example using ravel().\n",
      "  return f(**kwargs)\n",
      "c:\\users\\yelzha\\appdata\\local\\programs\\python\\python37\\lib\\site-packages\\sklearn\\utils\\validation.py:72: DataConversionWarning: A column-vector y was passed when a 1d array was expected. Please change the shape of y to (n_samples, ), for example using ravel().\n",
      "  return f(**kwargs)\n",
      "c:\\users\\yelzha\\appdata\\local\\programs\\python\\python37\\lib\\site-packages\\sklearn\\utils\\validation.py:72: DataConversionWarning: A column-vector y was passed when a 1d array was expected. Please change the shape of y to (n_samples, ), for example using ravel().\n",
      "  return f(**kwargs)\n",
      "c:\\users\\yelzha\\appdata\\local\\programs\\python\\python37\\lib\\site-packages\\sklearn\\utils\\validation.py:72: DataConversionWarning: A column-vector y was passed when a 1d array was expected. Please change the shape of y to (n_samples, ), for example using ravel().\n",
      "  return f(**kwargs)\n",
      "c:\\users\\yelzha\\appdata\\local\\programs\\python\\python37\\lib\\site-packages\\sklearn\\utils\\validation.py:72: DataConversionWarning: A column-vector y was passed when a 1d array was expected. Please change the shape of y to (n_samples, ), for example using ravel().\n",
      "  return f(**kwargs)\n",
      "c:\\users\\yelzha\\appdata\\local\\programs\\python\\python37\\lib\\site-packages\\sklearn\\utils\\validation.py:72: DataConversionWarning: A column-vector y was passed when a 1d array was expected. Please change the shape of y to (n_samples, ), for example using ravel().\n",
      "  return f(**kwargs)\n",
      "c:\\users\\yelzha\\appdata\\local\\programs\\python\\python37\\lib\\site-packages\\sklearn\\utils\\validation.py:72: DataConversionWarning: A column-vector y was passed when a 1d array was expected. Please change the shape of y to (n_samples, ), for example using ravel().\n",
      "  return f(**kwargs)\n",
      "c:\\users\\yelzha\\appdata\\local\\programs\\python\\python37\\lib\\site-packages\\sklearn\\utils\\validation.py:72: DataConversionWarning: A column-vector y was passed when a 1d array was expected. Please change the shape of y to (n_samples, ), for example using ravel().\n",
      "  return f(**kwargs)\n",
      "c:\\users\\yelzha\\appdata\\local\\programs\\python\\python37\\lib\\site-packages\\sklearn\\utils\\validation.py:72: DataConversionWarning: A column-vector y was passed when a 1d array was expected. Please change the shape of y to (n_samples, ), for example using ravel().\n",
      "  return f(**kwargs)\n",
      "c:\\users\\yelzha\\appdata\\local\\programs\\python\\python37\\lib\\site-packages\\sklearn\\utils\\validation.py:72: DataConversionWarning: A column-vector y was passed when a 1d array was expected. Please change the shape of y to (n_samples, ), for example using ravel().\n",
      "  return f(**kwargs)\n"
     ]
    },
    {
     "name": "stdout",
     "output_type": "stream",
     "text": [
      "[0.3392459  0.31174978 0.36884831 0.31604901 0.29923889 0.31503238\n",
      " 0.32154028 0.27569768 0.2935708  0.33539236]\n"
     ]
    }
   ],
   "source": [
    "from sklearn.model_selection import cross_val_score\n",
    "scores = cross_val_score(model, x_train_tf.toarray(), y_train, cv=10, scoring='f1_macro')\n",
    "print(scores)"
   ]
  },
  {
   "cell_type": "code",
   "execution_count": 194,
   "metadata": {},
   "outputs": [
    {
     "data": {
      "image/png": "[encoded data removed]",
      "text/plain": [
       "<Figure size 576x432 with 1 Axes>"
      ]
     },
     "metadata": {
      "needs_background": "light"
     },
     "output_type": "display_data"
    },
    {
     "data": {
      "image/png": "[encoded data removed]",
      "text/plain": [
       "<Figure size 576x432 with 1 Axes>"
      ]
     },
     "metadata": {
      "needs_background": "light"
     },
     "output_type": "display_data"
    }
   ],
   "source": [
    "sns.heatmap(plot_classification_report(classification_report(y_test, predictions, output_dict=True)),\n",
    "            square=False, annot=True, cmap='RdBu', cbar=False)\n",
    "plt.show()\n",
    "\n",
    "sns.heatmap(confusion_matrix(y_test, predictions), square=False, annot=True, cmap='RdBu', cbar=False)\n",
    "\n",
    "plt.xlabel('true label')\n",
    "plt.ylabel('predicted label')\n",
    "plt.show()"
   ]
  },
  {
   "cell_type": "code",
   "execution_count": null,
   "metadata": {},
   "outputs": [],
   "source": []
  }
 ],
 "metadata": {
  "kernelspec": {
   "display_name": "Python 3",
   "language": "python",
   "name": "python3"
  },
  "language_info": {
   "codemirror_mode": {
    "name": "ipython",
    "version": 3
   },
   "file_extension": ".py",
   "mimetype": "text/x-python",
   "name": "python",
   "nbconvert_exporter": "python",
   "pygments_lexer": "ipython3",
   "version": "3.7.7"
  }
 },
 "nbformat": 4,
 "nbformat_minor": 4
}
