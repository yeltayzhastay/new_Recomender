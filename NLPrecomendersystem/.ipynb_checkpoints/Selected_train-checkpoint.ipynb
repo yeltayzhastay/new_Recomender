{
 "cells": [
  {
   "cell_type": "code",
   "execution_count": 1,
   "metadata": {},
   "outputs": [],
   "source": [
    "import sklearn\n",
    "import pandas as pd\n",
    "import numpy as np\n",
    "\n",
    "from sklearn.model_selection import KFold,train_test_split,cross_val_score,cross_validate\n",
    "from sklearn.feature_extraction.text import TfidfVectorizer, CountVectorizer\n",
    "from sklearn.metrics import accuracy_score, precision_score, recall_score, f1_score, confusion_matrix, roc_auc_score, roc_curve\n",
    "\n",
    "from sklearn.linear_model import LogisticRegression\n",
    "from sklearn.neighbors import KNeighborsClassifier\n",
    "from sklearn.svm import SVC\n",
    "from sklearn.naive_bayes import GaussianNB, BernoulliNB, MultinomialNB\n",
    "from sklearn.tree import DecisionTreeClassifier\n",
    "from sklearn.ensemble import RandomForestClassifier, GradientBoostingClassifier\n",
    "\n",
    "from sklearn.metrics import classification_report, confusion_matrix, roc_auc_score\n",
    "\n",
    "import seaborn as sns\n",
    "import matplotlib.pyplot as plt\n",
    "\n",
    "plt.rcParams[\"figure.figsize\"] = (8, 6)\n",
    "pd.options.display.max_rows = 10"
   ]
  },
  {
   "cell_type": "code",
   "execution_count": 2,
   "metadata": {},
   "outputs": [
    {
     "data": {
      "text/html": [
       "<div>\n",
       "<style scoped>\n",
       "    .dataframe tbody tr th:only-of-type {\n",
       "        vertical-align: middle;\n",
       "    }\n",
       "\n",
       "    .dataframe tbody tr th {\n",
       "        vertical-align: top;\n",
       "    }\n",
       "\n",
       "    .dataframe thead th {\n",
       "        text-align: right;\n",
       "    }\n",
       "</style>\n",
       "<table border=\"1\" class=\"dataframe\">\n",
       "  <thead>\n",
       "    <tr style=\"text-align: right;\">\n",
       "      <th></th>\n",
       "      <th>group_url</th>\n",
       "      <th>from_id</th>\n",
       "      <th>owner_id</th>\n",
       "      <th>text</th>\n",
       "      <th>label</th>\n",
       "    </tr>\n",
       "  </thead>\n",
       "  <tbody>\n",
       "    <tr>\n",
       "      <th>0</th>\n",
       "      <td>samsung.galaxy_a</td>\n",
       "      <td>-24240100</td>\n",
       "      <td>-24240100</td>\n",
       "      <td>Стала известна точная дата выхода Galaxy S21\\r...</td>\n",
       "      <td>0</td>\n",
       "    </tr>\n",
       "    <tr>\n",
       "      <th>1</th>\n",
       "      <td>samsung.galaxy_a</td>\n",
       "      <td>563762178</td>\n",
       "      <td>-24240100</td>\n",
       "      <td>Можно ли поставить гугл камеру на j8?</td>\n",
       "      <td>0</td>\n",
       "    </tr>\n",
       "    <tr>\n",
       "      <th>2</th>\n",
       "      <td>samsung.galaxy_a</td>\n",
       "      <td>-24240100</td>\n",
       "      <td>-24240100</td>\n",
       "      <td>Инсайдер раскрыл технические характеристики Sn...</td>\n",
       "      <td>0</td>\n",
       "    </tr>\n",
       "    <tr>\n",
       "      <th>3</th>\n",
       "      <td>samsung.galaxy_a</td>\n",
       "      <td>-24240100</td>\n",
       "      <td>-24240100</td>\n",
       "      <td>Samsung представил новый сенсор Vizion 33D для...</td>\n",
       "      <td>0</td>\n",
       "    </tr>\n",
       "    <tr>\n",
       "      <th>4</th>\n",
       "      <td>samsung.galaxy_a</td>\n",
       "      <td>40969143</td>\n",
       "      <td>-24240100</td>\n",
       "      <td>Здравствуйте. Где можно скачать гугл камеру? А71</td>\n",
       "      <td>0</td>\n",
       "    </tr>\n",
       "    <tr>\n",
       "      <th>...</th>\n",
       "      <td>...</td>\n",
       "      <td>...</td>\n",
       "      <td>...</td>\n",
       "      <td>...</td>\n",
       "      <td>...</td>\n",
       "    </tr>\n",
       "    <tr>\n",
       "      <th>7890</th>\n",
       "      <td>ru_oppo</td>\n",
       "      <td>189630066</td>\n",
       "      <td>-139809093</td>\n",
       "      <td>Китайский бренд Oppo готовит к релизу свои топ...</td>\n",
       "      <td>0</td>\n",
       "    </tr>\n",
       "    <tr>\n",
       "      <th>7891</th>\n",
       "      <td>ru_oppo</td>\n",
       "      <td>375540195</td>\n",
       "      <td>-139809093</td>\n",
       "      <td>OPPO брат естественных условиях</td>\n",
       "      <td>0</td>\n",
       "    </tr>\n",
       "    <tr>\n",
       "      <th>7892</th>\n",
       "      <td>ru_oppo</td>\n",
       "      <td>189630066</td>\n",
       "      <td>-139809093</td>\n",
       "      <td>Представители компании Oppo вчера сообщили о т...</td>\n",
       "      <td>0</td>\n",
       "    </tr>\n",
       "    <tr>\n",
       "      <th>7893</th>\n",
       "      <td>ru_oppo</td>\n",
       "      <td>189630066</td>\n",
       "      <td>-139809093</td>\n",
       "      <td>Сегодня компания Oppo заявила о 3 млн смартфон...</td>\n",
       "      <td>0</td>\n",
       "    </tr>\n",
       "    <tr>\n",
       "      <th>7894</th>\n",
       "      <td>ru_oppo</td>\n",
       "      <td>-139809093</td>\n",
       "      <td>-139809093</td>\n",
       "      <td>2016 год для компании Oppo оказался крайне усп...</td>\n",
       "      <td>0</td>\n",
       "    </tr>\n",
       "  </tbody>\n",
       "</table>\n",
       "<p>7895 rows × 5 columns</p>\n",
       "</div>"
      ],
      "text/plain": [
       "             group_url    from_id   owner_id  \\\n",
       "0     samsung.galaxy_a  -24240100  -24240100   \n",
       "1     samsung.galaxy_a  563762178  -24240100   \n",
       "2     samsung.galaxy_a  -24240100  -24240100   \n",
       "3     samsung.galaxy_a  -24240100  -24240100   \n",
       "4     samsung.galaxy_a   40969143  -24240100   \n",
       "...                ...        ...        ...   \n",
       "7890           ru_oppo  189630066 -139809093   \n",
       "7891           ru_oppo  375540195 -139809093   \n",
       "7892           ru_oppo  189630066 -139809093   \n",
       "7893           ru_oppo  189630066 -139809093   \n",
       "7894           ru_oppo -139809093 -139809093   \n",
       "\n",
       "                                                   text  label  \n",
       "0     Стала известна точная дата выхода Galaxy S21\\r...      0  \n",
       "1                 Можно ли поставить гугл камеру на j8?      0  \n",
       "2     Инсайдер раскрыл технические характеристики Sn...      0  \n",
       "3     Samsung представил новый сенсор Vizion 33D для...      0  \n",
       "4      Здравствуйте. Где можно скачать гугл камеру? А71      0  \n",
       "...                                                 ...    ...  \n",
       "7890  Китайский бренд Oppo готовит к релизу свои топ...      0  \n",
       "7891                    OPPO брат естественных условиях      0  \n",
       "7892  Представители компании Oppo вчера сообщили о т...      0  \n",
       "7893  Сегодня компания Oppo заявила о 3 млн смартфон...      0  \n",
       "7894  2016 год для компании Oppo оказался крайне усп...      0  \n",
       "\n",
       "[7895 rows x 5 columns]"
      ]
     },
     "execution_count": 2,
     "metadata": {},
     "output_type": "execute_result"
    }
   ],
   "source": [
    "df = pd.read_csv('sentimented_dataset.csv')\n",
    "df"
   ]
  },
  {
   "cell_type": "code",
   "execution_count": 3,
   "metadata": {},
   "outputs": [
    {
     "data": {
      "text/html": [
       "<div>\n",
       "<style scoped>\n",
       "    .dataframe tbody tr th:only-of-type {\n",
       "        vertical-align: middle;\n",
       "    }\n",
       "\n",
       "    .dataframe tbody tr th {\n",
       "        vertical-align: top;\n",
       "    }\n",
       "\n",
       "    .dataframe thead th {\n",
       "        text-align: right;\n",
       "    }\n",
       "</style>\n",
       "<table border=\"1\" class=\"dataframe\">\n",
       "  <thead>\n",
       "    <tr style=\"text-align: right;\">\n",
       "      <th></th>\n",
       "      <th>from_id</th>\n",
       "    </tr>\n",
       "    <tr>\n",
       "      <th>group_url</th>\n",
       "      <th></th>\n",
       "    </tr>\n",
       "  </thead>\n",
       "  <tbody>\n",
       "    <tr>\n",
       "      <th>huaweip20</th>\n",
       "      <td>1981</td>\n",
       "    </tr>\n",
       "    <tr>\n",
       "      <th>kupit_iphone_v_moskve</th>\n",
       "      <td>1153</td>\n",
       "    </tr>\n",
       "    <tr>\n",
       "      <th>ru_oppo</th>\n",
       "      <td>211</td>\n",
       "    </tr>\n",
       "    <tr>\n",
       "      <th>rumicomrussia</th>\n",
       "      <td>2452</td>\n",
       "    </tr>\n",
       "    <tr>\n",
       "      <th>samsung.galaxy_a</th>\n",
       "      <td>2098</td>\n",
       "    </tr>\n",
       "  </tbody>\n",
       "</table>\n",
       "</div>"
      ],
      "text/plain": [
       "                       from_id\n",
       "group_url                     \n",
       "huaweip20                 1981\n",
       "kupit_iphone_v_moskve     1153\n",
       "ru_oppo                    211\n",
       "rumicomrussia             2452\n",
       "samsung.galaxy_a          2098"
      ]
     },
     "execution_count": 3,
     "metadata": {},
     "output_type": "execute_result"
    }
   ],
   "source": [
    "df.groupby('group_url').count()[['from_id']]"
   ]
  },
  {
   "cell_type": "code",
   "execution_count": 4,
   "metadata": {},
   "outputs": [
    {
     "data": {
      "text/html": [
       "<div>\n",
       "<style scoped>\n",
       "    .dataframe tbody tr th:only-of-type {\n",
       "        vertical-align: middle;\n",
       "    }\n",
       "\n",
       "    .dataframe tbody tr th {\n",
       "        vertical-align: top;\n",
       "    }\n",
       "\n",
       "    .dataframe thead th {\n",
       "        text-align: right;\n",
       "    }\n",
       "</style>\n",
       "<table border=\"1\" class=\"dataframe\">\n",
       "  <thead>\n",
       "    <tr style=\"text-align: right;\">\n",
       "      <th></th>\n",
       "      <th>group_url</th>\n",
       "      <th>from_id</th>\n",
       "      <th>owner_id</th>\n",
       "      <th>text</th>\n",
       "      <th>label</th>\n",
       "    </tr>\n",
       "  </thead>\n",
       "  <tbody>\n",
       "    <tr>\n",
       "      <th>0</th>\n",
       "      <td>huaweip20</td>\n",
       "      <td>179690330</td>\n",
       "      <td>-164458686</td>\n",
       "      <td>Господа есть вопрос к владельцам Р20 ! Последн...</td>\n",
       "      <td>0</td>\n",
       "    </tr>\n",
       "    <tr>\n",
       "      <th>1</th>\n",
       "      <td>huaweip20</td>\n",
       "      <td>278106536</td>\n",
       "      <td>-164458686</td>\n",
       "      <td>Как добавить фото контакта?</td>\n",
       "      <td>0</td>\n",
       "    </tr>\n",
       "    <tr>\n",
       "      <th>2</th>\n",
       "      <td>huaweip20</td>\n",
       "      <td>176534108</td>\n",
       "      <td>-164458686</td>\n",
       "      <td>Дождался))))</td>\n",
       "      <td>0</td>\n",
       "    </tr>\n",
       "    <tr>\n",
       "      <th>3</th>\n",
       "      <td>huaweip20</td>\n",
       "      <td>279139418</td>\n",
       "      <td>-164458686</td>\n",
       "      <td>P20 PRO🔱</td>\n",
       "      <td>0</td>\n",
       "    </tr>\n",
       "    <tr>\n",
       "      <th>4</th>\n",
       "      <td>huaweip20</td>\n",
       "      <td>76762008</td>\n",
       "      <td>-164458686</td>\n",
       "      <td>Народ появилась возможность сменить свой HUAWE...</td>\n",
       "      <td>0</td>\n",
       "    </tr>\n",
       "    <tr>\n",
       "      <th>...</th>\n",
       "      <td>...</td>\n",
       "      <td>...</td>\n",
       "      <td>...</td>\n",
       "      <td>...</td>\n",
       "      <td>...</td>\n",
       "    </tr>\n",
       "    <tr>\n",
       "      <th>4995</th>\n",
       "      <td>ru_oppo</td>\n",
       "      <td>189630066</td>\n",
       "      <td>-139809093</td>\n",
       "      <td>Дисплей новинки занимает 92,25% площади фронта...</td>\n",
       "      <td>0</td>\n",
       "    </tr>\n",
       "    <tr>\n",
       "      <th>4996</th>\n",
       "      <td>ru_oppo</td>\n",
       "      <td>224126187</td>\n",
       "      <td>-139809093</td>\n",
       "      <td>Сегодня приедит oppo realmi 3 pro кто пользует...</td>\n",
       "      <td>0</td>\n",
       "    </tr>\n",
       "    <tr>\n",
       "      <th>4997</th>\n",
       "      <td>ru_oppo</td>\n",
       "      <td>551644613</td>\n",
       "      <td>-139809093</td>\n",
       "      <td>Как разблокировать оппо a1k</td>\n",
       "      <td>0</td>\n",
       "    </tr>\n",
       "    <tr>\n",
       "      <th>4998</th>\n",
       "      <td>ru_oppo</td>\n",
       "      <td>260431986</td>\n",
       "      <td>-139809093</td>\n",
       "      <td>Как вам оппо рх17нео?</td>\n",
       "      <td>0</td>\n",
       "    </tr>\n",
       "    <tr>\n",
       "      <th>4999</th>\n",
       "      <td>ru_oppo</td>\n",
       "      <td>157220252</td>\n",
       "      <td>-139809093</td>\n",
       "      <td>Куплю экран на Орро F7 черный. Где можно покуп...</td>\n",
       "      <td>0</td>\n",
       "    </tr>\n",
       "  </tbody>\n",
       "</table>\n",
       "<p>5000 rows × 5 columns</p>\n",
       "</div>"
      ],
      "text/plain": [
       "      group_url    from_id   owner_id  \\\n",
       "0     huaweip20  179690330 -164458686   \n",
       "1     huaweip20  278106536 -164458686   \n",
       "2     huaweip20  176534108 -164458686   \n",
       "3     huaweip20  279139418 -164458686   \n",
       "4     huaweip20   76762008 -164458686   \n",
       "...         ...        ...        ...   \n",
       "4995    ru_oppo  189630066 -139809093   \n",
       "4996    ru_oppo  224126187 -139809093   \n",
       "4997    ru_oppo  551644613 -139809093   \n",
       "4998    ru_oppo  260431986 -139809093   \n",
       "4999    ru_oppo  157220252 -139809093   \n",
       "\n",
       "                                                   text  label  \n",
       "0     Господа есть вопрос к владельцам Р20 ! Последн...      0  \n",
       "1                           Как добавить фото контакта?      0  \n",
       "2                                          Дождался))))      0  \n",
       "3                                              P20 PRO🔱      0  \n",
       "4     Народ появилась возможность сменить свой HUAWE...      0  \n",
       "...                                                 ...    ...  \n",
       "4995  Дисплей новинки занимает 92,25% площади фронта...      0  \n",
       "4996  Сегодня приедит oppo realmi 3 pro кто пользует...      0  \n",
       "4997                        Как разблокировать оппо a1k      0  \n",
       "4998                              Как вам оппо рх17нео?      0  \n",
       "4999  Куплю экран на Орро F7 черный. Где можно покуп...      0  \n",
       "\n",
       "[5000 rows x 5 columns]"
      ]
     },
     "execution_count": 4,
     "metadata": {},
     "output_type": "execute_result"
    }
   ],
   "source": [
    "from sklearn.utils import resample\n",
    "\n",
    "balanced = pd.concat([resample(df[df.group_url == 'huaweip20'], n_samples=1000),\n",
    "           resample(df[df.group_url == 'kupit_iphone_v_moskve'], n_samples=1000),\n",
    "           resample(df[df.group_url == 'rumicomrussia'], n_samples=1000),\n",
    "           resample(df[df.group_url == 'samsung.galaxy_a'], n_samples=1000),\n",
    "           resample(df[df.group_url == 'ru_oppo'], n_samples=1000)], ignore_index=True)\n",
    "\n",
    "balanced"
   ]
  },
  {
   "cell_type": "code",
   "execution_count": 58,
   "metadata": {},
   "outputs": [
    {
     "data": {
      "text/html": [
       "<div>\n",
       "<style scoped>\n",
       "    .dataframe tbody tr th:only-of-type {\n",
       "        vertical-align: middle;\n",
       "    }\n",
       "\n",
       "    .dataframe tbody tr th {\n",
       "        vertical-align: top;\n",
       "    }\n",
       "\n",
       "    .dataframe thead th {\n",
       "        text-align: right;\n",
       "    }\n",
       "</style>\n",
       "<table border=\"1\" class=\"dataframe\">\n",
       "  <thead>\n",
       "    <tr style=\"text-align: right;\">\n",
       "      <th></th>\n",
       "      <th>group_url</th>\n",
       "      <th>from_id</th>\n",
       "      <th>owner_id</th>\n",
       "      <th>text</th>\n",
       "      <th>label</th>\n",
       "      <th>label_cat</th>\n",
       "    </tr>\n",
       "  </thead>\n",
       "  <tbody>\n",
       "    <tr>\n",
       "      <th>0</th>\n",
       "      <td>huaweip20</td>\n",
       "      <td>179690330</td>\n",
       "      <td>-164458686</td>\n",
       "      <td>Господа есть вопрос к владельцам Р20 ! Последн...</td>\n",
       "      <td>0</td>\n",
       "      <td>0</td>\n",
       "    </tr>\n",
       "    <tr>\n",
       "      <th>1</th>\n",
       "      <td>huaweip20</td>\n",
       "      <td>278106536</td>\n",
       "      <td>-164458686</td>\n",
       "      <td>Как добавить фото контакта?</td>\n",
       "      <td>0</td>\n",
       "      <td>0</td>\n",
       "    </tr>\n",
       "    <tr>\n",
       "      <th>2</th>\n",
       "      <td>huaweip20</td>\n",
       "      <td>176534108</td>\n",
       "      <td>-164458686</td>\n",
       "      <td>Дождался))))</td>\n",
       "      <td>0</td>\n",
       "      <td>0</td>\n",
       "    </tr>\n",
       "    <tr>\n",
       "      <th>3</th>\n",
       "      <td>huaweip20</td>\n",
       "      <td>279139418</td>\n",
       "      <td>-164458686</td>\n",
       "      <td>P20 PRO🔱</td>\n",
       "      <td>0</td>\n",
       "      <td>0</td>\n",
       "    </tr>\n",
       "    <tr>\n",
       "      <th>4</th>\n",
       "      <td>huaweip20</td>\n",
       "      <td>76762008</td>\n",
       "      <td>-164458686</td>\n",
       "      <td>Народ появилась возможность сменить свой HUAWE...</td>\n",
       "      <td>0</td>\n",
       "      <td>0</td>\n",
       "    </tr>\n",
       "    <tr>\n",
       "      <th>...</th>\n",
       "      <td>...</td>\n",
       "      <td>...</td>\n",
       "      <td>...</td>\n",
       "      <td>...</td>\n",
       "      <td>...</td>\n",
       "      <td>...</td>\n",
       "    </tr>\n",
       "    <tr>\n",
       "      <th>4995</th>\n",
       "      <td>ru_oppo</td>\n",
       "      <td>189630066</td>\n",
       "      <td>-139809093</td>\n",
       "      <td>Дисплей новинки занимает 92,25% площади фронта...</td>\n",
       "      <td>0</td>\n",
       "      <td>2</td>\n",
       "    </tr>\n",
       "    <tr>\n",
       "      <th>4996</th>\n",
       "      <td>ru_oppo</td>\n",
       "      <td>224126187</td>\n",
       "      <td>-139809093</td>\n",
       "      <td>Сегодня приедит oppo realmi 3 pro кто пользует...</td>\n",
       "      <td>0</td>\n",
       "      <td>2</td>\n",
       "    </tr>\n",
       "    <tr>\n",
       "      <th>4997</th>\n",
       "      <td>ru_oppo</td>\n",
       "      <td>551644613</td>\n",
       "      <td>-139809093</td>\n",
       "      <td>Как разблокировать оппо a1k</td>\n",
       "      <td>0</td>\n",
       "      <td>2</td>\n",
       "    </tr>\n",
       "    <tr>\n",
       "      <th>4998</th>\n",
       "      <td>ru_oppo</td>\n",
       "      <td>260431986</td>\n",
       "      <td>-139809093</td>\n",
       "      <td>Как вам оппо рх17нео?</td>\n",
       "      <td>0</td>\n",
       "      <td>2</td>\n",
       "    </tr>\n",
       "    <tr>\n",
       "      <th>4999</th>\n",
       "      <td>ru_oppo</td>\n",
       "      <td>157220252</td>\n",
       "      <td>-139809093</td>\n",
       "      <td>Куплю экран на Орро F7 черный. Где можно покуп...</td>\n",
       "      <td>0</td>\n",
       "      <td>2</td>\n",
       "    </tr>\n",
       "  </tbody>\n",
       "</table>\n",
       "<p>5000 rows × 6 columns</p>\n",
       "</div>"
      ],
      "text/plain": [
       "      group_url    from_id   owner_id  \\\n",
       "0     huaweip20  179690330 -164458686   \n",
       "1     huaweip20  278106536 -164458686   \n",
       "2     huaweip20  176534108 -164458686   \n",
       "3     huaweip20  279139418 -164458686   \n",
       "4     huaweip20   76762008 -164458686   \n",
       "...         ...        ...        ...   \n",
       "4995    ru_oppo  189630066 -139809093   \n",
       "4996    ru_oppo  224126187 -139809093   \n",
       "4997    ru_oppo  551644613 -139809093   \n",
       "4998    ru_oppo  260431986 -139809093   \n",
       "4999    ru_oppo  157220252 -139809093   \n",
       "\n",
       "                                                   text  label  label_cat  \n",
       "0     Господа есть вопрос к владельцам Р20 ! Последн...      0          0  \n",
       "1                           Как добавить фото контакта?      0          0  \n",
       "2                                          Дождался))))      0          0  \n",
       "3                                              P20 PRO🔱      0          0  \n",
       "4     Народ появилась возможность сменить свой HUAWE...      0          0  \n",
       "...                                                 ...    ...        ...  \n",
       "4995  Дисплей новинки занимает 92,25% площади фронта...      0          2  \n",
       "4996  Сегодня приедит oppo realmi 3 pro кто пользует...      0          2  \n",
       "4997                        Как разблокировать оппо a1k      0          2  \n",
       "4998                              Как вам оппо рх17нео?      0          2  \n",
       "4999  Куплю экран на Орро F7 черный. Где можно покуп...      0          2  \n",
       "\n",
       "[5000 rows x 6 columns]"
      ]
     },
     "execution_count": 58,
     "metadata": {},
     "output_type": "execute_result"
    }
   ],
   "source": [
    "from sklearn import preprocessing\n",
    "le = preprocessing.LabelEncoder()\n",
    "balanced['label_cat'] = le.fit_transform(balanced.group_url)\n",
    "balanced"
   ]
  },
  {
   "cell_type": "code",
   "execution_count": 59,
   "metadata": {},
   "outputs": [],
   "source": [
    "import re\n",
    "from nltk.stem.snowball import SnowballStemmer\n",
    "\n",
    "def cleaning_data(code_data):\n",
    "    text = code_data\n",
    "    text = text.replace('(<br/>)', '')\n",
    "    text = text.replace('(<a).*(>).*(</a>)', '')\n",
    "    text = text.replace('(&amp)', '')\n",
    "    text = text.replace('(&gt)', '')\n",
    "    text = text.replace('(&lt)', '')\n",
    "    text = text.replace('(\\xa0)', ' ')\n",
    "    text = filtering(text)\n",
    "    #text = stemmering(text)\n",
    "    return text.strip()\n",
    "\n",
    "def filtering(text):\n",
    "    stripped = re.sub('[^a-zA-Z, ^А-Я,а-я]', ' ', str(text).replace('-', ''))\n",
    "    stripped = re.sub('_', '', stripped)\n",
    "    stripped = re.sub('\\s+', ' ', stripped)\n",
    "    return str(stripped).lower()\n",
    "\n",
    "def stemmering(text):\n",
    "    stemmer = SnowballStemmer(\"russian\")\n",
    "    return ' '.join([stemmer.stem(word) for word in text.split(' ')])"
   ]
  },
  {
   "cell_type": "code",
   "execution_count": 62,
   "metadata": {},
   "outputs": [
    {
     "data": {
      "text/plain": [
       "0       господа есть вопрос к владельцам р последний п...\n",
       "1                              как добавить фото контакта\n",
       "2                                                дождался\n",
       "3                                                   p pro\n",
       "4       народ появилась возможность сменить свой huawe...\n",
       "                              ...                        \n",
       "4995    дисплей новинки занимает , площади фронтальной...\n",
       "4996    сегодня приедит oppo realmi pro кто пользуется...\n",
       "4997                          как разблокировать оппо a k\n",
       "4998                                  как вам оппо рх нео\n",
       "4999    куплю экран на орро f черный где можно покупат...\n",
       "Name: 0, Length: 5000, dtype: object"
      ]
     },
     "execution_count": 62,
     "metadata": {},
     "output_type": "execute_result"
    }
   ],
   "source": [
    "X = pd.DataFrame(list(map(cleaning_data, balanced.text)))[0]\n",
    "y = balanced.label_cat\n",
    "X"
   ]
  },
  {
   "cell_type": "code",
   "execution_count": 63,
   "metadata": {},
   "outputs": [],
   "source": [
    "y = y[(X != '').values]\n",
    "X = X[(X != '').values]"
   ]
  },
  {
   "cell_type": "code",
   "execution_count": 64,
   "metadata": {},
   "outputs": [
    {
     "name": "stdout",
     "output_type": "stream",
     "text": [
      "3973\n",
      "994\n"
     ]
    }
   ],
   "source": [
    "X_train, X_test, y_train, y_test = train_test_split(X, y, test_size = 0.2)\n",
    "print(len(X_train))\n",
    "print(len(X_test))"
   ]
  },
  {
   "cell_type": "code",
   "execution_count": 65,
   "metadata": {},
   "outputs": [
    {
     "name": "stdout",
     "output_type": "stream",
     "text": [
      "(3973, 12761)\n"
     ]
    }
   ],
   "source": [
    "from nltk.corpus import stopwords\n",
    "\n",
    "vectorizer = TfidfVectorizer(lowercase=True, sublinear_tf=True, smooth_idf=True)\n",
    "x_train_tf = vectorizer.fit_transform(X_train)\n",
    "x_test_tf = vectorizer.transform(X_test)\n",
    "print(x_train_tf.shape)"
   ]
  },
  {
   "cell_type": "code",
   "execution_count": 66,
   "metadata": {},
   "outputs": [],
   "source": [
    "import itertools\n",
    "\n",
    "def plot_classification_report(classificationReport,\n",
    "                               title='Classification report',\n",
    "                               cmap='Greens'):\n",
    "    df = pd.DataFrame(classificationReport).T.iloc[:,:3]\n",
    "    df.style.background_gradient(cmap='viridis',\n",
    "                             subset=pd.IndexSlice['0':'9', :'f1-score'])\n",
    "    return df"
   ]
  },
  {
   "cell_type": "code",
   "execution_count": 67,
   "metadata": {},
   "outputs": [
    {
     "name": "stderr",
     "output_type": "stream",
     "text": [
      "c:\\users\\yelzha\\appdata\\local\\programs\\python\\python37\\lib\\site-packages\\sklearn\\ensemble\\forest.py:246: FutureWarning: The default value of n_estimators will change from 10 in version 0.20 to 100 in 0.22.\n",
      "  \"10 in version 0.20 to 100 in 0.22.\", FutureWarning)\n"
     ]
    }
   ],
   "source": [
    "model = RandomForestClassifier()\n",
    "model.fit(x_train_tf.toarray(), y_train)\n",
    "\n",
    "predictions = model.predict(x_test_tf.toarray())"
   ]
  },
  {
   "cell_type": "code",
   "execution_count": 69,
   "metadata": {},
   "outputs": [
    {
     "data": {
      "text/plain": [
       "array(['huaweip20', 'kupit_iphone_v_moskve', 'ru_oppo', 'rumicomrussia',\n",
       "       'samsung.galaxy_a'], dtype=object)"
      ]
     },
     "execution_count": 69,
     "metadata": {},
     "output_type": "execute_result"
    }
   ],
   "source": [
    "le.classes_"
   ]
  },
  {
   "cell_type": "code",
   "execution_count": 70,
   "metadata": {},
   "outputs": [
    {
     "data": {
      "image/png": "[encoded data removed]",
      "text/plain": [
       "<Figure size 576x432 with 1 Axes>"
      ]
     },
     "metadata": {
      "needs_background": "light"
     },
     "output_type": "display_data"
    }
   ],
   "source": [
    "sns.heatmap(plot_classification_report(classification_report(y_test, predictions, output_dict=True, target_names=le.classes_)),\n",
    "            square=False, annot=True, cbar=False)\n",
    "plt.title('Metrics')\n",
    "plt.show()"
   ]
  },
  {
   "cell_type": "code",
   "execution_count": 73,
   "metadata": {},
   "outputs": [
    {
     "data": {
      "image/png": "[encoded data removed]",
      "text/plain": [
       "<Figure size 576x432 with 1 Axes>"
      ]
     },
     "metadata": {
      "needs_background": "light"
     },
     "output_type": "display_data"
    }
   ],
   "source": [
    "sns.heatmap(confusion_matrix(y_test, predictions), square=False, annot=True, cbar=False,\n",
    "            xticklabels=le.classes_,\n",
    "            yticklabels=le.classes_)\n",
    "plt.title('True, False, Positive, Negative Plot')\n",
    "plt.xlabel('True')\n",
    "plt.ylabel('Prediction')\n",
    "plt.show()"
   ]
  },
  {
   "cell_type": "code",
   "execution_count": 92,
   "metadata": {},
   "outputs": [],
   "source": [
    "def sequentialGet(text):\n",
    "    vectored = vectorizer.transform([text])\n",
    "    predictions_proba = model.predict_proba(vectored.toarray())[0]\n",
    "    result = {}\n",
    "    for i, j in zip(le.classes_, predictions_proba):\n",
    "        result[i] = j\n",
    "    return {k: v for k, v in sorted(result.items(), key=lambda item: item[1], reverse=True)}"
   ]
  },
  {
   "cell_type": "code",
   "execution_count": 93,
   "metadata": {},
   "outputs": [
    {
     "data": {
      "text/plain": [
       "{'kupit_iphone_v_moskve': 0.8,\n",
       " 'samsung.galaxy_a': 0.16,\n",
       " 'huaweip20': 0.04,\n",
       " 'ru_oppo': 0.0,\n",
       " 'rumicomrussia': 0.0}"
      ]
     },
     "execution_count": 93,
     "metadata": {},
     "output_type": "execute_result"
    }
   ],
   "source": [
    "sequentialGet('Я хочу айфон и еще Ipad 6')"
   ]
  },
  {
   "cell_type": "code",
   "execution_count": 106,
   "metadata": {},
   "outputs": [
    {
     "data": {
      "text/plain": [
       "{'samsung.galaxy_a': 0.7,\n",
       " 'kupit_iphone_v_moskve': 0.3,\n",
       " 'huaweip20': 0.0,\n",
       " 'ru_oppo': 0.0,\n",
       " 'rumicomrussia': 0.0}"
      ]
     },
     "execution_count": 106,
     "metadata": {},
     "output_type": "execute_result"
    }
   ],
   "source": [
    "sequentialGet('Iphone Iphone 6 samsung')"
   ]
  },
  {
   "cell_type": "code",
   "execution_count": 103,
   "metadata": {},
   "outputs": [],
   "source": [
    "def oneGet(text):\n",
    "    vectored = vectorizer.transform([text])\n",
    "    predictions_proba = model.predict(vectored.toarray())\n",
    "    return le.inverse_transform(predictions_proba)[0]"
   ]
  },
  {
   "cell_type": "code",
   "execution_count": 104,
   "metadata": {},
   "outputs": [
    {
     "data": {
      "text/plain": [
       "'kupit_iphone_v_moskve'"
      ]
     },
     "execution_count": 104,
     "metadata": {},
     "output_type": "execute_result"
    }
   ],
   "source": [
    "oneGet('Iphone Iphone ipad apple 6 samsung')"
   ]
  },
  {
   "cell_type": "code",
   "execution_count": null,
   "metadata": {},
   "outputs": [],
   "source": []
  }
 ],
 "metadata": {
  "kernelspec": {
   "display_name": "Python 3",
   "language": "python",
   "name": "python3"
  },
  "language_info": {
   "codemirror_mode": {
    "name": "ipython",
    "version": 3
   },
   "file_extension": ".py",
   "mimetype": "text/x-python",
   "name": "python",
   "nbconvert_exporter": "python",
   "pygments_lexer": "ipython3",
   "version": "3.7.7"
  },
  "toc": {
   "base_numbering": 1,
   "nav_menu": {},
   "number_sections": true,
   "sideBar": true,
   "skip_h1_title": false,
   "title_cell": "Table of Contents",
   "title_sidebar": "Contents",
   "toc_cell": false,
   "toc_position": {},
   "toc_section_display": true,
   "toc_window_display": false
  }
 },
 "nbformat": 4,
 "nbformat_minor": 4
}
