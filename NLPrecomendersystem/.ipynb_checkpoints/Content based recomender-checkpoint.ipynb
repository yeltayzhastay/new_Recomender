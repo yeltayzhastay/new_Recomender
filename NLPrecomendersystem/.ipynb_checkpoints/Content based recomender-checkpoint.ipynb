{
 "cells": [
  {
   "cell_type": "code",
   "execution_count": 51,
   "metadata": {},
   "outputs": [],
   "source": [
    "import sklearn\n",
    "import pandas as pd\n",
    "import numpy as np\n",
    "\n",
    "from sklearn.model_selection import KFold,train_test_split,cross_val_score,cross_validate\n",
    "from sklearn.feature_extraction.text import TfidfVectorizer, CountVectorizer\n",
    "from sklearn.metrics import accuracy_score, precision_score, recall_score, f1_score, confusion_matrix, roc_auc_score, roc_curve\n",
    "\n",
    "from sklearn.metrics.pairwise import cosine_similarity\n",
    "\n",
    "from sklearn.linear_model import LogisticRegression\n",
    "from sklearn.ensemble import RandomForestClassifier\n",
    "\n",
    "from sklearn.metrics import classification_report, confusion_matrix, roc_auc_score\n",
    "\n",
    "import seaborn as sns\n",
    "import matplotlib.pyplot as plt\n",
    "\n",
    "plt.rcParams[\"figure.figsize\"] = (8, 6)\n",
    "pd.options.display.max_rows = 10"
   ]
  },
  {
   "cell_type": "code",
   "execution_count": 52,
   "metadata": {},
   "outputs": [
    {
     "data": {
      "text/html": [
       "<div>\n",
       "<style scoped>\n",
       "    .dataframe tbody tr th:only-of-type {\n",
       "        vertical-align: middle;\n",
       "    }\n",
       "\n",
       "    .dataframe tbody tr th {\n",
       "        vertical-align: top;\n",
       "    }\n",
       "\n",
       "    .dataframe thead th {\n",
       "        text-align: right;\n",
       "    }\n",
       "</style>\n",
       "<table border=\"1\" class=\"dataframe\">\n",
       "  <thead>\n",
       "    <tr style=\"text-align: right;\">\n",
       "      <th></th>\n",
       "      <th>group_url</th>\n",
       "      <th>text</th>\n",
       "      <th>comments</th>\n",
       "      <th>likes</th>\n",
       "      <th>reposts</th>\n",
       "    </tr>\n",
       "  </thead>\n",
       "  <tbody>\n",
       "    <tr>\n",
       "      <th>0</th>\n",
       "      <td>samsung.galaxy_a</td>\n",
       "      <td>Как сделать, чтобы эта ***** пришла на телефон?</td>\n",
       "      <td>1</td>\n",
       "      <td>0</td>\n",
       "      <td>0</td>\n",
       "    </tr>\n",
       "    <tr>\n",
       "      <th>1</th>\n",
       "      <td>samsung.galaxy_a</td>\n",
       "      <td>Сегодня скачал обновление (к сожалению не андр...</td>\n",
       "      <td>9</td>\n",
       "      <td>0</td>\n",
       "      <td>0</td>\n",
       "    </tr>\n",
       "    <tr>\n",
       "      <th>3</th>\n",
       "      <td>samsung.galaxy_a</td>\n",
       "      <td>Купил а71. Наушники в комплекте не о чем. За к...</td>\n",
       "      <td>14</td>\n",
       "      <td>1</td>\n",
       "      <td>0</td>\n",
       "    </tr>\n",
       "    <tr>\n",
       "      <th>4</th>\n",
       "      <td>samsung.galaxy_a</td>\n",
       "      <td>Как убрать пиратский баннер на весь экран в бр...</td>\n",
       "      <td>13</td>\n",
       "      <td>0</td>\n",
       "      <td>0</td>\n",
       "    </tr>\n",
       "    <tr>\n",
       "      <th>5</th>\n",
       "      <td>samsung.galaxy_a</td>\n",
       "      <td>Характеристики Snapdragon 875 и предполагаемые...</td>\n",
       "      <td>0</td>\n",
       "      <td>3</td>\n",
       "      <td>0</td>\n",
       "    </tr>\n",
       "    <tr>\n",
       "      <th>...</th>\n",
       "      <td>...</td>\n",
       "      <td>...</td>\n",
       "      <td>...</td>\n",
       "      <td>...</td>\n",
       "      <td>...</td>\n",
       "    </tr>\n",
       "    <tr>\n",
       "      <th>4340</th>\n",
       "      <td>ru_oppo</td>\n",
       "      <td>Специалисты ресурса gizmochina решили проверит...</td>\n",
       "      <td>0</td>\n",
       "      <td>2</td>\n",
       "      <td>0</td>\n",
       "    </tr>\n",
       "    <tr>\n",
       "      <th>4341</th>\n",
       "      <td>ru_oppo</td>\n",
       "      <td>OPPO брат естественных условиях</td>\n",
       "      <td>1</td>\n",
       "      <td>2</td>\n",
       "      <td>0</td>\n",
       "    </tr>\n",
       "    <tr>\n",
       "      <th>4342</th>\n",
       "      <td>ru_oppo</td>\n",
       "      <td>Представители компании Oppo вчера сообщили о т...</td>\n",
       "      <td>0</td>\n",
       "      <td>2</td>\n",
       "      <td>0</td>\n",
       "    </tr>\n",
       "    <tr>\n",
       "      <th>4343</th>\n",
       "      <td>ru_oppo</td>\n",
       "      <td>Сегодня компания Oppo заявила о 3 млн смартфон...</td>\n",
       "      <td>0</td>\n",
       "      <td>0</td>\n",
       "      <td>0</td>\n",
       "    </tr>\n",
       "    <tr>\n",
       "      <th>4344</th>\n",
       "      <td>ru_oppo</td>\n",
       "      <td>2016 год для компании Oppo оказался крайне усп...</td>\n",
       "      <td>0</td>\n",
       "      <td>7</td>\n",
       "      <td>0</td>\n",
       "    </tr>\n",
       "  </tbody>\n",
       "</table>\n",
       "<p>4137 rows × 5 columns</p>\n",
       "</div>"
      ],
      "text/plain": [
       "             group_url                                               text  \\\n",
       "0     samsung.galaxy_a    Как сделать, чтобы эта ***** пришла на телефон?   \n",
       "1     samsung.galaxy_a  Сегодня скачал обновление (к сожалению не андр...   \n",
       "3     samsung.galaxy_a  Купил а71. Наушники в комплекте не о чем. За к...   \n",
       "4     samsung.galaxy_a  Как убрать пиратский баннер на весь экран в бр...   \n",
       "5     samsung.galaxy_a  Характеристики Snapdragon 875 и предполагаемые...   \n",
       "...                ...                                                ...   \n",
       "4340           ru_oppo  Специалисты ресурса gizmochina решили проверит...   \n",
       "4341           ru_oppo                    OPPO брат естественных условиях   \n",
       "4342           ru_oppo  Представители компании Oppo вчера сообщили о т...   \n",
       "4343           ru_oppo  Сегодня компания Oppo заявила о 3 млн смартфон...   \n",
       "4344           ru_oppo  2016 год для компании Oppo оказался крайне усп...   \n",
       "\n",
       "      comments  likes  reposts  \n",
       "0            1      0        0  \n",
       "1            9      0        0  \n",
       "3           14      1        0  \n",
       "4           13      0        0  \n",
       "5            0      3        0  \n",
       "...        ...    ...      ...  \n",
       "4340         0      2        0  \n",
       "4341         1      2        0  \n",
       "4342         0      2        0  \n",
       "4343         0      0        0  \n",
       "4344         0      7        0  \n",
       "\n",
       "[4137 rows x 5 columns]"
      ]
     },
     "execution_count": 52,
     "metadata": {},
     "output_type": "execute_result"
    }
   ],
   "source": [
    "df = pd.read_csv('5gr_content_2.csv', sep=';')\n",
    "df = df.dropna(subset=['text']).drop_duplicates()\n",
    "df"
   ]
  },
  {
   "cell_type": "code",
   "execution_count": 102,
   "metadata": {},
   "outputs": [],
   "source": [
    "import re\n",
    "from nltk.stem.snowball import SnowballStemmer\n",
    "\n",
    "def cleaning_data(code_data):\n",
    "    text = code_data\n",
    "    text = text.replace('(<br/>)', '')\n",
    "    text = text.replace('(<a).*(>).*(</a>)', '')\n",
    "    text = text.replace('(&amp)', '')\n",
    "    text = text.replace('(&gt)', '')\n",
    "    text = text.replace('(&lt)', '')\n",
    "    text = text.replace('(\\xa0)', ' ')\n",
    "    text = filtering(text)\n",
    "    #text = stemmering(text)\n",
    "    return text\n",
    "\n",
    "def filtering(text):\n",
    "    stripped = re.sub('[^a-zA-Z, ^А-Я,а-я]', ' ', str(text).replace('-', ''))\n",
    "    stripped = re.sub('_', '', stripped)\n",
    "    stripped = re.sub('\\s+', ' ', stripped)\n",
    "    return str(stripped).lower()\n",
    "\n",
    "def stemmering(text):\n",
    "    stemmer = SnowballStemmer(\"russian\")\n",
    "    return ' '.join([stemmer.stem(word) for word in text.split(' ')])"
   ]
  },
  {
   "cell_type": "code",
   "execution_count": 103,
   "metadata": {},
   "outputs": [],
   "source": [
    "X, y = df.loc[:, 'text'], df[['group_url']]"
   ]
  },
  {
   "cell_type": "code",
   "execution_count": 104,
   "metadata": {},
   "outputs": [],
   "source": [
    "X = pd.DataFrame(list(map(cleaning_data, X.tolist())))[0]"
   ]
  },
  {
   "cell_type": "code",
   "execution_count": 105,
   "metadata": {},
   "outputs": [],
   "source": [
    "y = y[(X != ' ').values]\n",
    "X = X[(X != ' ').values]"
   ]
  },
  {
   "cell_type": "code",
   "execution_count": 106,
   "metadata": {},
   "outputs": [
    {
     "name": "stdout",
     "output_type": "stream",
     "text": [
      "3306\n",
      "827\n"
     ]
    }
   ],
   "source": [
    "X_train, X_test, y_train, y_test = train_test_split(X, y, test_size = 0.2)\n",
    "print(len(X_train))\n",
    "print(len(X_test))"
   ]
  },
  {
   "cell_type": "code",
   "execution_count": 171,
   "metadata": {},
   "outputs": [
    {
     "name": "stdout",
     "output_type": "stream",
     "text": [
      "(3306, 15340)\n"
     ]
    }
   ],
   "source": [
    "from nltk.corpus import stopwords\n",
    "\n",
    "vectorizer = TfidfVectorizer(lowercase=True)\n",
    "x_train_tf = vectorizer.fit_transform(X_train)\n",
    "x_test_tf = vectorizer.transform(X_test)\n",
    "print(x_train_tf.shape)"
   ]
  },
  {
   "cell_type": "code",
   "execution_count": 172,
   "metadata": {},
   "outputs": [],
   "source": [
    "def plot_classification_report(classificationReport,\n",
    "                               title='Classification report',\n",
    "                               cmap='RdBu'):\n",
    "    df = pd.DataFrame(classificationReport).T.iloc[:,:3]\n",
    "    df.style.background_gradient(cmap='viridis',\n",
    "                             subset=pd.IndexSlice['0':'9', :'f1-score'])\n",
    "    return df"
   ]
  },
  {
   "cell_type": "code",
   "execution_count": 173,
   "metadata": {},
   "outputs": [
    {
     "name": "stderr",
     "output_type": "stream",
     "text": [
      "c:\\users\\yelzha\\appdata\\local\\programs\\python\\python37\\lib\\site-packages\\sklearn\\utils\\validation.py:72: DataConversionWarning: A column-vector y was passed when a 1d array was expected. Please change the shape of y to (n_samples, ), for example using ravel().\n",
      "  return f(**kwargs)\n"
     ]
    }
   ],
   "source": [
    "model = LogisticRegression()\n",
    "model.fit(x_train_tf.toarray(), y_train)\n",
    "\n",
    "predictions = model.predict(x_test_tf.toarray())"
   ]
  },
  {
   "cell_type": "code",
   "execution_count": 174,
   "metadata": {},
   "outputs": [
    {
     "data": {
      "image/png": "[encoded data removed]",
      "text/plain": [
       "<Figure size 576x432 with 1 Axes>"
      ]
     },
     "metadata": {
      "needs_background": "light"
     },
     "output_type": "display_data"
    },
    {
     "data": {
      "image/png": "[encoded data removed]",
      "text/plain": [
       "<Figure size 576x432 with 1 Axes>"
      ]
     },
     "metadata": {
      "needs_background": "light"
     },
     "output_type": "display_data"
    }
   ],
   "source": [
    "sns.heatmap(plot_classification_report(classification_report(y_test, predictions, output_dict=True)),\n",
    "            square=False, annot=True, cmap='RdBu', cbar=False)\n",
    "plt.show()\n",
    "\n",
    "sns.heatmap(confusion_matrix(y_test, predictions), square=False, annot=True, cmap='RdBu', cbar=False)\n",
    "\n",
    "plt.xlabel('true label')\n",
    "plt.ylabel('predicted label')\n",
    "plt.show()"
   ]
  },
  {
   "cell_type": "code",
   "execution_count": null,
   "metadata": {},
   "outputs": [],
   "source": []
  },
  {
   "cell_type": "code",
   "execution_count": 175,
   "metadata": {},
   "outputs": [
    {
     "name": "stdout",
     "output_type": "stream",
     "text": [
      "(4133, 2997)\n"
     ]
    }
   ],
   "source": [
    "from nltk.corpus import stopwords\n",
    "\n",
    "count = CountVectorizer(lowercase=True, min_df=0.001, max_df=0.1, stop_words=stopwords.words('russian'))\n",
    "count_matrix = count.fit_transform(X)\n",
    "\n",
    "# generating the cosine similarity matrix\n",
    "cosine_sim = cosine_similarity(count_matrix, count_matrix)\n",
    "\n",
    "print(count_matrix.shape)"
   ]
  },
  {
   "cell_type": "code",
   "execution_count": 176,
   "metadata": {},
   "outputs": [],
   "source": [
    "indices = pd.Series(X.index)\n",
    "\n",
    "def recommendations(title, cosine_sim = cosine_sim):\n",
    "    recommended_movies = []\n",
    "    \n",
    "    idx = indices[indices == title].index[0]\n",
    "    \n",
    "    score_series = pd.Series(cosine_sim[idx]).sort_values(ascending = False)\n",
    "\n",
    "    top_10_indexes = zip(list(score_series.iloc[0:11].index), list(score_series.iloc[0:11].values))\n",
    "    \n",
    "    for i, j in top_10_indexes:\n",
    "        recommended_movies.append([list(X.index)[i], j])\n",
    "        \n",
    "    return recommended_movies"
   ]
  },
  {
   "cell_type": "code",
   "execution_count": 178,
   "metadata": {},
   "outputs": [
    {
     "name": "stdout",
     "output_type": "stream",
     "text": [
      "1.0000000000000002 как сделать, чтобы эта пришла на телефон \n",
      "0.5773502691896258 парни, какие есть способы установки сторонних иконок на miui стабильную например скачанные с pda\n",
      "0.408248290463863 a s пришла обнова\n",
      "0.408248290463863 huawei honor band при покупке по ссылке действует скидка http ali pub ca bc http ali pub ca bc http ali pub ca bc\n",
      "0.408248290463863 странно, мне пришло уведомление, что обновление загружено, думал ка, а обновилась p pro\n",
      "0.3849001794597505 автоматические лаборатории xiaomi тестируют почти смартфонов абсолютно у каждого производителя сложной вычислительной техники, будь то ноутбуки, фотоаппараты и смартфоны, есть свои собственные тестовые лаборатории именно здесь происходит тестирование актуальных и еще не выпущенных устройств обычно это место строго ограничено к посещению персоналом, поскольку хранит немало коммерческих секретов например, внешний вид смартфонов, которые только планируется выпустить подробнее https vk cc azcvzn новости румиком\n",
      "0.3333333333333334 всем привет, у меня такой вопрос можно ли как то уменьшить силу вибрации на h p lite очень уж сильно требезжит заранее спасибо \n",
      "0.3333333333333334 huawei p lite uzb \n",
      "0.3333333333333334 как сообщается, huawei p lite в различных регионах также выйдет под названиями huawei p lite gb edition и huawei p lite xl причем в европе он появится уже в самое ближайшее время по цене порядка \n",
      "0.3333333333333334 huawei вычеркнула huawei p и p pro из списка получающих обновления безопасности\n",
      "0.3333333333333334 доброго всем времени суток проблема у меня одного после обновления прям жестко быстро высаживается аккумулятор p может конечно совпало и с обновлением одновременно полетела батарея но я что то сомневаюсь\n"
     ]
    },
    {
     "data": {
      "text/plain": [
       "[None, None, None, None, None, None, None, None, None, None, None]"
      ]
     },
     "execution_count": 178,
     "metadata": {},
     "output_type": "execute_result"
    }
   ],
   "source": [
    "[print(j, X.iloc[i]) for i, j in recommendations(0, cosine_sim)]"
   ]
  },
  {
   "cell_type": "code",
   "execution_count": null,
   "metadata": {},
   "outputs": [],
   "source": []
  }
 ],
 "metadata": {
  "kernelspec": {
   "display_name": "Python 3",
   "language": "python",
   "name": "python3"
  },
  "language_info": {
   "codemirror_mode": {
    "name": "ipython",
    "version": 3
   },
   "file_extension": ".py",
   "mimetype": "text/x-python",
   "name": "python",
   "nbconvert_exporter": "python",
   "pygments_lexer": "ipython3",
   "version": "3.7.7"
  }
 },
 "nbformat": 4,
 "nbformat_minor": 4
}
